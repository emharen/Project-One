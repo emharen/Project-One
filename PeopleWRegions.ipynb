{
 "cells": [
  {
   "cell_type": "code",
   "execution_count": 1,
   "metadata": {},
   "outputs": [],
   "source": [
    "import pandas as pd\n",
    "import matplotlib.pyplot as plt"
   ]
  },
  {
   "cell_type": "code",
   "execution_count": 4,
   "metadata": {},
   "outputs": [
    {
     "data": {
      "text/plain": [
       "Index(['PERSON_ID', 'PERSON_TYPE', 'RD_NO', 'VEHICLE_ID', 'CRASH_DATE',\n",
       "       'SEAT_NO', 'CITY', 'STATE', 'ZIPCODE', 'SEX', 'AGE',\n",
       "       'DRIVERS_LICENSE_STATE', 'DRIVERS_LICENSE_CLASS', 'SAFETY_EQUIPMENT',\n",
       "       'AIRBAG_DEPLOYED', 'EJECTION', 'INJURY_CLASSIFICATION', 'HOSPITAL',\n",
       "       'EMS_AGENCY', 'EMS_RUN_NO', 'DRIVER_ACTION', 'DRIVER_VISION',\n",
       "       'PHYSICAL_CONDITION', 'PEDPEDAL_ACTION', 'PEDPEDAL_VISIBILITY',\n",
       "       'PEDPEDAL_LOCATION', 'BAC_RESULT', 'BAC_RESULT VALUE', 'CELL_PHONE_USE',\n",
       "       'Year'],\n",
       "      dtype='object')"
      ]
     },
     "execution_count": 4,
     "metadata": {},
     "output_type": "execute_result"
    }
   ],
   "source": [
    "file = \"CSVs/peoplerevised.csv\"\n",
    "people_df = pd.read_csv(file)\n",
    "people_df.columns"
   ]
  },
  {
   "cell_type": "code",
   "execution_count": 6,
   "metadata": {},
   "outputs": [
    {
     "data": {
      "text/plain": [
       "Index(['RD_NO', 'CRASH_DATE_EST_I', 'CRASH_DATE', 'POSTED_SPEED_LIMIT',\n",
       "       'TRAFFIC_CONTROL_DEVICE', 'DEVICE_CONDITION', 'WEATHER_CONDITION',\n",
       "       'LIGHTING_CONDITION', 'FIRST_CRASH_TYPE', 'TRAFFICWAY_TYPE', 'LANE_CNT',\n",
       "       'ALIGNMENT', 'ROADWAY_SURFACE_COND', 'ROAD_DEFECT', 'REPORT_TYPE',\n",
       "       'CRASH_TYPE', 'INTERSECTION_RELATED_I', 'NOT_RIGHT_OF_WAY_I',\n",
       "       'HIT_AND_RUN_I', 'DAMAGE', 'DATE_POLICE_NOTIFIED',\n",
       "       'PRIM_CONTRIBUTORY_CAUSE', 'SEC_CONTRIBUTORY_CAUSE', 'STREET_NO',\n",
       "       'STREET_DIRECTION', 'STREET_NAME', 'BEAT_OF_OCCURRENCE',\n",
       "       'PHOTOS_TAKEN_I', 'STATEMENTS_TAKEN_I', 'DOORING_I', 'WORK_ZONE_I',\n",
       "       'WORK_ZONE_TYPE', 'WORKERS_PRESENT_I', 'NUM_UNITS',\n",
       "       'MOST_SEVERE_INJURY', 'INJURIES_TOTAL', 'INJURIES_FATAL',\n",
       "       'INJURIES_INCAPACITATING', 'INJURIES_NON_INCAPACITATING',\n",
       "       'INJURIES_REPORTED_NOT_EVIDENT', 'INJURIES_NO_INDICATION',\n",
       "       'INJURIES_UNKNOWN', 'CRASH_HOUR', 'CRASH_DAY_OF_WEEK', 'CRASH_MONTH',\n",
       "       'Lat', 'Lng', 'Region ID'],\n",
       "      dtype='object')"
      ]
     },
     "execution_count": 6,
     "metadata": {},
     "output_type": "execute_result"
    }
   ],
   "source": [
    "file2 = \"CSVs/Crashes_w_Region.csv\"\n",
    "crashes_df = pd.read_csv(file2)\n",
    "crashes_df.columns"
   ]
  },
  {
   "cell_type": "code",
   "execution_count": 8,
   "metadata": {},
   "outputs": [
    {
     "data": {
      "text/html": [
       "<div>\n",
       "<style scoped>\n",
       "    .dataframe tbody tr th:only-of-type {\n",
       "        vertical-align: middle;\n",
       "    }\n",
       "\n",
       "    .dataframe tbody tr th {\n",
       "        vertical-align: top;\n",
       "    }\n",
       "\n",
       "    .dataframe thead th {\n",
       "        text-align: right;\n",
       "    }\n",
       "</style>\n",
       "<table border=\"1\" class=\"dataframe\">\n",
       "  <thead>\n",
       "    <tr style=\"text-align: right;\">\n",
       "      <th></th>\n",
       "      <th>PERSON_ID</th>\n",
       "      <th>PERSON_TYPE</th>\n",
       "      <th>RD_NO</th>\n",
       "      <th>VEHICLE_ID</th>\n",
       "      <th>CRASH_DATE_x</th>\n",
       "      <th>SEAT_NO</th>\n",
       "      <th>CITY</th>\n",
       "      <th>STATE</th>\n",
       "      <th>ZIPCODE</th>\n",
       "      <th>SEX</th>\n",
       "      <th>...</th>\n",
       "      <th>INJURIES_NON_INCAPACITATING</th>\n",
       "      <th>INJURIES_REPORTED_NOT_EVIDENT</th>\n",
       "      <th>INJURIES_NO_INDICATION</th>\n",
       "      <th>INJURIES_UNKNOWN</th>\n",
       "      <th>CRASH_HOUR</th>\n",
       "      <th>CRASH_DAY_OF_WEEK</th>\n",
       "      <th>CRASH_MONTH</th>\n",
       "      <th>Lat</th>\n",
       "      <th>Lng</th>\n",
       "      <th>Region ID</th>\n",
       "    </tr>\n",
       "  </thead>\n",
       "  <tbody>\n",
       "    <tr>\n",
       "      <th>0</th>\n",
       "      <td>O113278</td>\n",
       "      <td>DRIVER</td>\n",
       "      <td>JA100019</td>\n",
       "      <td>112267.0</td>\n",
       "      <td>01/01/2017 12:10:00 AM</td>\n",
       "      <td>NaN</td>\n",
       "      <td>NaN</td>\n",
       "      <td>NaN</td>\n",
       "      <td>NaN</td>\n",
       "      <td>M</td>\n",
       "      <td>...</td>\n",
       "      <td>0.0</td>\n",
       "      <td>1.0</td>\n",
       "      <td>3.0</td>\n",
       "      <td>0.0</td>\n",
       "      <td>0.0</td>\n",
       "      <td>1.0</td>\n",
       "      <td>1.0</td>\n",
       "      <td>41.892846</td>\n",
       "      <td>-87.629835</td>\n",
       "      <td>12.0</td>\n",
       "    </tr>\n",
       "    <tr>\n",
       "      <th>1</th>\n",
       "      <td>O113279</td>\n",
       "      <td>DRIVER</td>\n",
       "      <td>JA100019</td>\n",
       "      <td>112268.0</td>\n",
       "      <td>01/01/2017 12:10:00 AM</td>\n",
       "      <td>NaN</td>\n",
       "      <td>CHICAGO</td>\n",
       "      <td>IL</td>\n",
       "      <td>60659</td>\n",
       "      <td>M</td>\n",
       "      <td>...</td>\n",
       "      <td>0.0</td>\n",
       "      <td>1.0</td>\n",
       "      <td>3.0</td>\n",
       "      <td>0.0</td>\n",
       "      <td>0.0</td>\n",
       "      <td>1.0</td>\n",
       "      <td>1.0</td>\n",
       "      <td>41.892846</td>\n",
       "      <td>-87.629835</td>\n",
       "      <td>12.0</td>\n",
       "    </tr>\n",
       "    <tr>\n",
       "      <th>2</th>\n",
       "      <td>O113282</td>\n",
       "      <td>DRIVER</td>\n",
       "      <td>JA100054</td>\n",
       "      <td>112269.0</td>\n",
       "      <td>01/01/2017 12:45:00 AM</td>\n",
       "      <td>NaN</td>\n",
       "      <td>CHICAGO</td>\n",
       "      <td>IL</td>\n",
       "      <td>60608</td>\n",
       "      <td>M</td>\n",
       "      <td>...</td>\n",
       "      <td>0.0</td>\n",
       "      <td>0.0</td>\n",
       "      <td>2.0</td>\n",
       "      <td>0.0</td>\n",
       "      <td>0.0</td>\n",
       "      <td>1.0</td>\n",
       "      <td>1.0</td>\n",
       "      <td>41.903400</td>\n",
       "      <td>-87.657323</td>\n",
       "      <td>11.0</td>\n",
       "    </tr>\n",
       "    <tr>\n",
       "      <th>3</th>\n",
       "      <td>O113283</td>\n",
       "      <td>DRIVER</td>\n",
       "      <td>JA100054</td>\n",
       "      <td>112274.0</td>\n",
       "      <td>01/01/2017 12:45:00 AM</td>\n",
       "      <td>NaN</td>\n",
       "      <td>CHICAGO</td>\n",
       "      <td>IL</td>\n",
       "      <td>60641</td>\n",
       "      <td>F</td>\n",
       "      <td>...</td>\n",
       "      <td>0.0</td>\n",
       "      <td>0.0</td>\n",
       "      <td>2.0</td>\n",
       "      <td>0.0</td>\n",
       "      <td>0.0</td>\n",
       "      <td>1.0</td>\n",
       "      <td>1.0</td>\n",
       "      <td>41.903400</td>\n",
       "      <td>-87.657323</td>\n",
       "      <td>11.0</td>\n",
       "    </tr>\n",
       "    <tr>\n",
       "      <th>4</th>\n",
       "      <td>O113284</td>\n",
       "      <td>DRIVER</td>\n",
       "      <td>JA100047</td>\n",
       "      <td>112270.0</td>\n",
       "      <td>01/01/2017 12:15:00 AM</td>\n",
       "      <td>NaN</td>\n",
       "      <td>CHICAGO</td>\n",
       "      <td>IL</td>\n",
       "      <td>60616</td>\n",
       "      <td>M</td>\n",
       "      <td>...</td>\n",
       "      <td>0.0</td>\n",
       "      <td>0.0</td>\n",
       "      <td>2.0</td>\n",
       "      <td>0.0</td>\n",
       "      <td>0.0</td>\n",
       "      <td>1.0</td>\n",
       "      <td>1.0</td>\n",
       "      <td>41.887647</td>\n",
       "      <td>-87.635873</td>\n",
       "      <td>13.0</td>\n",
       "    </tr>\n",
       "  </tbody>\n",
       "</table>\n",
       "<p>5 rows × 77 columns</p>\n",
       "</div>"
      ],
      "text/plain": [
       "  PERSON_ID PERSON_TYPE     RD_NO  VEHICLE_ID            CRASH_DATE_x  \\\n",
       "0   O113278      DRIVER  JA100019    112267.0  01/01/2017 12:10:00 AM   \n",
       "1   O113279      DRIVER  JA100019    112268.0  01/01/2017 12:10:00 AM   \n",
       "2   O113282      DRIVER  JA100054    112269.0  01/01/2017 12:45:00 AM   \n",
       "3   O113283      DRIVER  JA100054    112274.0  01/01/2017 12:45:00 AM   \n",
       "4   O113284      DRIVER  JA100047    112270.0  01/01/2017 12:15:00 AM   \n",
       "\n",
       "   SEAT_NO     CITY STATE ZIPCODE SEX    ...     INJURIES_NON_INCAPACITATING  \\\n",
       "0      NaN      NaN   NaN     NaN   M    ...                             0.0   \n",
       "1      NaN  CHICAGO    IL   60659   M    ...                             0.0   \n",
       "2      NaN  CHICAGO    IL   60608   M    ...                             0.0   \n",
       "3      NaN  CHICAGO    IL   60641   F    ...                             0.0   \n",
       "4      NaN  CHICAGO    IL   60616   M    ...                             0.0   \n",
       "\n",
       "  INJURIES_REPORTED_NOT_EVIDENT INJURIES_NO_INDICATION INJURIES_UNKNOWN  \\\n",
       "0                           1.0                    3.0              0.0   \n",
       "1                           1.0                    3.0              0.0   \n",
       "2                           0.0                    2.0              0.0   \n",
       "3                           0.0                    2.0              0.0   \n",
       "4                           0.0                    2.0              0.0   \n",
       "\n",
       "  CRASH_HOUR CRASH_DAY_OF_WEEK CRASH_MONTH        Lat        Lng Region ID  \n",
       "0        0.0               1.0         1.0  41.892846 -87.629835      12.0  \n",
       "1        0.0               1.0         1.0  41.892846 -87.629835      12.0  \n",
       "2        0.0               1.0         1.0  41.903400 -87.657323      11.0  \n",
       "3        0.0               1.0         1.0  41.903400 -87.657323      11.0  \n",
       "4        0.0               1.0         1.0  41.887647 -87.635873      13.0  \n",
       "\n",
       "[5 rows x 77 columns]"
      ]
     },
     "execution_count": 8,
     "metadata": {},
     "output_type": "execute_result"
    }
   ],
   "source": [
    "people_crashes = pd.merge(people_df, crashes_df, on = \"RD_NO\", how = \"left\")\n",
    "people_crashes.head()"
   ]
  },
  {
   "cell_type": "code",
   "execution_count": 9,
   "metadata": {},
   "outputs": [
    {
     "data": {
      "text/plain": [
       "Index(['PERSON_ID', 'PERSON_TYPE', 'RD_NO', 'VEHICLE_ID', 'CRASH_DATE_x',\n",
       "       'SEAT_NO', 'CITY', 'STATE', 'ZIPCODE', 'SEX', 'AGE',\n",
       "       'DRIVERS_LICENSE_STATE', 'DRIVERS_LICENSE_CLASS', 'SAFETY_EQUIPMENT',\n",
       "       'AIRBAG_DEPLOYED', 'EJECTION', 'INJURY_CLASSIFICATION', 'HOSPITAL',\n",
       "       'EMS_AGENCY', 'EMS_RUN_NO', 'DRIVER_ACTION', 'DRIVER_VISION',\n",
       "       'PHYSICAL_CONDITION', 'PEDPEDAL_ACTION', 'PEDPEDAL_VISIBILITY',\n",
       "       'PEDPEDAL_LOCATION', 'BAC_RESULT', 'BAC_RESULT VALUE', 'CELL_PHONE_USE',\n",
       "       'Year', 'CRASH_DATE_EST_I', 'CRASH_DATE_y', 'POSTED_SPEED_LIMIT',\n",
       "       'TRAFFIC_CONTROL_DEVICE', 'DEVICE_CONDITION', 'WEATHER_CONDITION',\n",
       "       'LIGHTING_CONDITION', 'FIRST_CRASH_TYPE', 'TRAFFICWAY_TYPE', 'LANE_CNT',\n",
       "       'ALIGNMENT', 'ROADWAY_SURFACE_COND', 'ROAD_DEFECT', 'REPORT_TYPE',\n",
       "       'CRASH_TYPE', 'INTERSECTION_RELATED_I', 'NOT_RIGHT_OF_WAY_I',\n",
       "       'HIT_AND_RUN_I', 'DAMAGE', 'DATE_POLICE_NOTIFIED',\n",
       "       'PRIM_CONTRIBUTORY_CAUSE', 'SEC_CONTRIBUTORY_CAUSE', 'STREET_NO',\n",
       "       'STREET_DIRECTION', 'STREET_NAME', 'BEAT_OF_OCCURRENCE',\n",
       "       'PHOTOS_TAKEN_I', 'STATEMENTS_TAKEN_I', 'DOORING_I', 'WORK_ZONE_I',\n",
       "       'WORK_ZONE_TYPE', 'WORKERS_PRESENT_I', 'NUM_UNITS',\n",
       "       'MOST_SEVERE_INJURY', 'INJURIES_TOTAL', 'INJURIES_FATAL',\n",
       "       'INJURIES_INCAPACITATING', 'INJURIES_NON_INCAPACITATING',\n",
       "       'INJURIES_REPORTED_NOT_EVIDENT', 'INJURIES_NO_INDICATION',\n",
       "       'INJURIES_UNKNOWN', 'CRASH_HOUR', 'CRASH_DAY_OF_WEEK', 'CRASH_MONTH',\n",
       "       'Lat', 'Lng', 'Region ID'],\n",
       "      dtype='object')"
      ]
     },
     "execution_count": 9,
     "metadata": {},
     "output_type": "execute_result"
    }
   ],
   "source": [
    "people_crashes.columns"
   ]
  },
  {
   "cell_type": "code",
   "execution_count": 20,
   "metadata": {},
   "outputs": [
    {
     "data": {
      "text/plain": [
       "array(['NO INDICATION OF INJURY', 'REPORTED, NOT EVIDENT',\n",
       "       'NONINCAPACITATING INJURY', 'INCAPACITATING INJURY', nan, 'FATAL'],\n",
       "      dtype=object)"
      ]
     },
     "execution_count": 20,
     "metadata": {},
     "output_type": "execute_result"
    }
   ],
   "source": [
    "causes = people_crashes[\"DRIVER_ACTION\"].unique()\n",
    "injury = people_crashes[\"INJURY_CLASSIFICATION\"].unique()"
   ]
  },
  {
   "cell_type": "code",
   "execution_count": 26,
   "metadata": {},
   "outputs": [
    {
     "name": "stdout",
     "output_type": "stream",
     "text": [
      "NONE                                 11704\n",
      "UNKNOWN                               4904\n",
      "FAILED TO YIELD                       3418\n",
      "OTHER                                 2161\n",
      "FOLLOWED TOO CLOSELY                  1583\n",
      "IMPROPER BACKING                       685\n",
      "IMPROPER LANE CHANGE                   586\n",
      "IMPROPER TURN                          574\n",
      "IMPROPER PASSING                       440\n",
      "TOO FAST FOR CONDITIONS                409\n",
      "DISREGARDED CONTROL DEVICES            311\n",
      "WRONG WAY/SIDE                          93\n",
      "IMPROPER PARKING                        50\n",
      "CELL PHONE USE OTHER THAN TEXTING       31\n",
      "EVADING POLICE VEHICLE                  20\n",
      "TEXTING                                 15\n",
      "EMERGENCY VEHICLE ON CALL               12\n",
      "STOPPED SCHOOL BUS                       5\n",
      "Name: DRIVER_ACTION, dtype: int64\n",
      "NO INDICATION OF INJURY     31360\n",
      "NONINCAPACITATING INJURY     1155\n",
      "REPORTED, NOT EVIDENT         649\n",
      "INCAPACITATING INJURY         257\n",
      "FATAL                          18\n",
      "Name: INJURY_CLASSIFICATION, dtype: int64\n",
      "39\n"
     ]
    }
   ],
   "source": [
    "region18_df = people_crashes[people_crashes[\"Region ID\"] == 18]\n",
    "print(region18_df[\"DRIVER_ACTION\"].value_counts())\n",
    "print(region18_df[\"INJURY_CLASSIFICATION\"].value_counts())\n",
    "print(region18_df[\"BAC_RESULT VALUE\"].count())"
   ]
  },
  {
   "cell_type": "code",
   "execution_count": 27,
   "metadata": {},
   "outputs": [
    {
     "name": "stdout",
     "output_type": "stream",
     "text": [
      "NONE                                 7597\n",
      "UNKNOWN                              5460\n",
      "FAILED TO YIELD                      2013\n",
      "OTHER                                2008\n",
      "FOLLOWED TOO CLOSELY                 1217\n",
      "IMPROPER TURN                         636\n",
      "IMPROPER BACKING                      575\n",
      "DISREGARDED CONTROL DEVICES           551\n",
      "IMPROPER LANE CHANGE                  507\n",
      "TOO FAST FOR CONDITIONS               472\n",
      "IMPROPER PASSING                      424\n",
      "EVADING POLICE VEHICLE                171\n",
      "WRONG WAY/SIDE                        150\n",
      "IMPROPER PARKING                       66\n",
      "EMERGENCY VEHICLE ON CALL              52\n",
      "CELL PHONE USE OTHER THAN TEXTING      41\n",
      "TEXTING                                13\n",
      "STOPPED SCHOOL BUS                      2\n",
      "Name: DRIVER_ACTION, dtype: int64\n",
      "NO INDICATION OF INJURY     25797\n",
      "NONINCAPACITATING INJURY     1842\n",
      "REPORTED, NOT EVIDENT        1172\n",
      "INCAPACITATING INJURY         359\n",
      "FATAL                          25\n",
      "Name: INJURY_CLASSIFICATION, dtype: int64\n",
      "25\n"
     ]
    }
   ],
   "source": [
    "region10_df = people_crashes[people_crashes[\"Region ID\"] == 10]\n",
    "print(region10_df[\"DRIVER_ACTION\"].value_counts())\n",
    "print(region10_df[\"INJURY_CLASSIFICATION\"].value_counts())\n",
    "print(region10_df[\"BAC_RESULT VALUE\"].count())\n"
   ]
  }
 ],
 "metadata": {
  "kernelspec": {
   "display_name": "Python 3",
   "language": "python",
   "name": "python3"
  },
  "language_info": {
   "codemirror_mode": {
    "name": "ipython",
    "version": 3
   },
   "file_extension": ".py",
   "mimetype": "text/x-python",
   "name": "python",
   "nbconvert_exporter": "python",
   "pygments_lexer": "ipython3",
   "version": "3.6.7"
  }
 },
 "nbformat": 4,
 "nbformat_minor": 2
}
