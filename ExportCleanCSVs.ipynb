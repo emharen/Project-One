{
 "cells": [
  {
   "cell_type": "code",
   "execution_count": 1,
   "metadata": {},
   "outputs": [],
   "source": [
    "import pandas as pd\n"
   ]
  },
  {
   "cell_type": "code",
   "execution_count": 2,
   "metadata": {},
   "outputs": [
    {
     "name": "stderr",
     "output_type": "stream",
     "text": [
      "C:\\Users\\Caitlin\\Anaconda3\\envs\\DataClass\\lib\\site-packages\\IPython\\core\\interactiveshell.py:3020: DtypeWarning: Columns (11,12,19,20,21,22,23,24,25,26,28) have mixed types. Specify dtype option on import or set low_memory=False.\n",
      "  interactivity=interactivity, compiler=compiler, result=result)\n",
      "C:\\Users\\Caitlin\\Anaconda3\\envs\\DataClass\\lib\\site-packages\\IPython\\core\\interactiveshell.py:3020: DtypeWarning: Columns (18,39,40,41,43,47,48,49,54,57,58,60,70) have mixed types. Specify dtype option on import or set low_memory=False.\n",
      "  interactivity=interactivity, compiler=compiler, result=result)\n"
     ]
    }
   ],
   "source": [
    "crashesfile = \"Traffic_Crashes_-_Crashes.csv\"\n",
    "peoplefile = \"Traffic_Crashes_-_People.csv\"\n",
    "vehiclesfile = \"Traffic_Crashes_-_Vehicles.csv\"\n",
    "redlightfile = \"Red_Light_Camera_Violations.csv\"\n",
    "speedfile = \"Speed_Camera_Violations.csv\"\n",
    "\n",
    "crashes_df = pd.read_csv(crashesfile)\n",
    "people_df = pd.read_csv(peoplefile)\n",
    "vehicles_df = pd.read_csv(vehiclesfile)\n",
    "redlight_df = pd.read_csv(redlightfile)\n",
    "speed_df = pd.read_csv(speedfile)\n"
   ]
  },
  {
   "cell_type": "code",
   "execution_count": 3,
   "metadata": {},
   "outputs": [
    {
     "data": {
      "text/plain": [
       "0         2019\n",
       "1         2019\n",
       "2         2019\n",
       "3         2019\n",
       "4         2019\n",
       "5         2019\n",
       "6         2019\n",
       "7         2019\n",
       "8         2019\n",
       "9         2019\n",
       "10        2019\n",
       "11        2019\n",
       "12        2019\n",
       "13        2019\n",
       "14        2019\n",
       "15        2019\n",
       "16        2019\n",
       "17        2019\n",
       "18        2019\n",
       "19        2019\n",
       "20        2019\n",
       "21        2019\n",
       "22        2019\n",
       "23        2019\n",
       "24        2019\n",
       "25        2019\n",
       "26        2019\n",
       "27        2019\n",
       "28        2019\n",
       "29        2019\n",
       "          ... \n",
       "279766    2015\n",
       "279767    2015\n",
       "279768    2015\n",
       "279769    2015\n",
       "279770    2015\n",
       "279771    2015\n",
       "279772    2015\n",
       "279773    2015\n",
       "279774    2015\n",
       "279775    2015\n",
       "279776    2015\n",
       "279777    2015\n",
       "279778    2015\n",
       "279779    2015\n",
       "279780    2015\n",
       "279781    2015\n",
       "279782    2015\n",
       "279783    2015\n",
       "279784    2015\n",
       "279785    2015\n",
       "279786    2015\n",
       "279787    2015\n",
       "279788    2015\n",
       "279789    2015\n",
       "279790    2014\n",
       "279791    2014\n",
       "279792    2014\n",
       "279793    2014\n",
       "279794    2014\n",
       "279795    2013\n",
       "Name: Year, Length: 279796, dtype: int64"
      ]
     },
     "execution_count": 3,
     "metadata": {},
     "output_type": "execute_result"
    }
   ],
   "source": [
    "crashes_df[\"Year\"] = pd.DatetimeIndex(crashes_df[\"CRASH_DATE\"]).year\n"
   ]
  },
  {
   "cell_type": "code",
   "execution_count": 6,
   "metadata": {},
   "outputs": [],
   "source": [
    "people_df[\"Year\"] = pd.DatetimeIndex(people_df[\"CRASH_DATE\"]).year\n",
    "vehicles_df[\"Year\"] = pd.DatetimeIndex(vehicles_df[\"CRASH_DATE\"]).year"
   ]
  },
  {
   "cell_type": "code",
   "execution_count": 7,
   "metadata": {},
   "outputs": [],
   "source": [
    "redlight_df[\"Year\"] = pd.DatetimeIndex(redlight_df[\"VIOLATION DATE\"]).year"
   ]
  },
  {
   "cell_type": "code",
   "execution_count": 8,
   "metadata": {},
   "outputs": [],
   "source": [
    "speed_df[\"Year\"] = pd.DatetimeIndex(speed_df[\"VIOLATION DATE\"]).year"
   ]
  },
  {
   "cell_type": "code",
   "execution_count": 9,
   "metadata": {},
   "outputs": [],
   "source": [
    "crashes_df = crashes_df[crashes_df.Year != 2016]\n",
    "crashes_df = crashes_df[crashes_df.Year != 2015]\n",
    "crashes_df = crashes_df[crashes_df.Year != 2014]\n",
    "crashes_df = crashes_df[crashes_df.Year != 2013]\n",
    "\n",
    "people_df = people_df[people_df.Year != 2016]\n",
    "people_df = people_df[people_df.Year != 2015]\n",
    "people_df = people_df[people_df.Year != 2014]\n",
    "people_df = people_df[people_df.Year != 2013]\n",
    "\n",
    "vehicles_df = vehicles_df[vehicles_df.Year != 2016]\n",
    "vehicles_df = vehicles_df[vehicles_df.Year != 2015]\n",
    "vehicles_df = vehicles_df[vehicles_df.Year != 2014]\n",
    "vehicles_df = vehicles_df[vehicles_df.Year != 2013]\n",
    "\n",
    "redlight_df = redlight_df[redlight_df.Year != 2016]\n",
    "redlight_df = redlight_df[redlight_df.Year != 2015]\n",
    "redlight_df = redlight_df[redlight_df.Year != 2014]\n",
    "redlight_df = redlight_df[redlight_df.Year != 2013]\n",
    "\n",
    "speed_df = speed_df[speed_df.Year != 2016]\n",
    "speed_df = speed_df[speed_df.Year != 2015]\n",
    "speed_df = speed_df[speed_df.Year != 2014]\n",
    "speed_df = speed_df[speed_df.Year != 2013]\n"
   ]
  },
  {
   "cell_type": "code",
   "execution_count": 10,
   "metadata": {},
   "outputs": [],
   "source": [
    "#Export files\n",
    "crashes_df.to_csv(\"crashesrevised.csv\", index=False, header=True)\n",
    "people_df.to_csv(\"peoplerevised.csv\", index=False, header=True)\n",
    "vehicles_df.to_csv(\"vehiclesrevised.csv\", index=False, header=True)\n",
    "speed_df.to_csv(\"speedrevised.csv\", index=False, header=True)\n",
    "redlight_df.to_csv(\"redlightrevised.csv\", index=False, header=True)"
   ]
  }
 ],
 "metadata": {
  "kernelspec": {
   "display_name": "Python 3",
   "language": "python",
   "name": "python3"
  },
  "language_info": {
   "codemirror_mode": {
    "name": "ipython",
    "version": 3
   },
   "file_extension": ".py",
   "mimetype": "text/x-python",
   "name": "python",
   "nbconvert_exporter": "python",
   "pygments_lexer": "ipython3",
   "version": "3.6.7"
  }
 },
 "nbformat": 4,
 "nbformat_minor": 2
}
