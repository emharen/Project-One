{
 "cells": [
  {
   "cell_type": "code",
   "execution_count": 1,
   "metadata": {},
   "outputs": [],
   "source": [
    "import pandas as pd"
   ]
  },
  {
   "cell_type": "code",
   "execution_count": 2,
   "metadata": {},
   "outputs": [
    {
     "data": {
      "text/html": [
       "<div>\n",
       "<style scoped>\n",
       "    .dataframe tbody tr th:only-of-type {\n",
       "        vertical-align: middle;\n",
       "    }\n",
       "\n",
       "    .dataframe tbody tr th {\n",
       "        vertical-align: top;\n",
       "    }\n",
       "\n",
       "    .dataframe thead th {\n",
       "        text-align: right;\n",
       "    }\n",
       "</style>\n",
       "<table border=\"1\" class=\"dataframe\">\n",
       "  <thead>\n",
       "    <tr style=\"text-align: right;\">\n",
       "      <th></th>\n",
       "      <th>TIME</th>\n",
       "      <th>SEGMENTID</th>\n",
       "      <th>BUS COUNT</th>\n",
       "      <th>MESSAGE COUNT</th>\n",
       "      <th>SPEED</th>\n",
       "    </tr>\n",
       "  </thead>\n",
       "  <tbody>\n",
       "    <tr>\n",
       "      <th>0</th>\n",
       "      <td>01/16/2013 11:50:32 PM</td>\n",
       "      <td>116</td>\n",
       "      <td>2.0</td>\n",
       "      <td>7.0</td>\n",
       "      <td>18</td>\n",
       "    </tr>\n",
       "    <tr>\n",
       "      <th>1</th>\n",
       "      <td>02/24/2013 11:50:32 PM</td>\n",
       "      <td>54</td>\n",
       "      <td>2.0</td>\n",
       "      <td>11.0</td>\n",
       "      <td>23</td>\n",
       "    </tr>\n",
       "    <tr>\n",
       "      <th>2</th>\n",
       "      <td>02/17/2013 11:50:32 PM</td>\n",
       "      <td>597</td>\n",
       "      <td>0.0</td>\n",
       "      <td>0.0</td>\n",
       "      <td>-1</td>\n",
       "    </tr>\n",
       "    <tr>\n",
       "      <th>3</th>\n",
       "      <td>02/23/2013 11:50:32 PM</td>\n",
       "      <td>363</td>\n",
       "      <td>1.0</td>\n",
       "      <td>4.0</td>\n",
       "      <td>25</td>\n",
       "    </tr>\n",
       "    <tr>\n",
       "      <th>4</th>\n",
       "      <td>12/01/2014 11:50:32 PM</td>\n",
       "      <td>203</td>\n",
       "      <td>0.0</td>\n",
       "      <td>0.0</td>\n",
       "      <td>-1</td>\n",
       "    </tr>\n",
       "  </tbody>\n",
       "</table>\n",
       "</div>"
      ],
      "text/plain": [
       "                     TIME  SEGMENTID  BUS COUNT                  \\\n",
       "0  01/16/2013 11:50:32 PM        116                        2.0   \n",
       "1  02/24/2013 11:50:32 PM         54                        2.0   \n",
       "2  02/17/2013 11:50:32 PM        597                        0.0   \n",
       "3  02/23/2013 11:50:32 PM        363                        1.0   \n",
       "4  12/01/2014 11:50:32 PM        203                        0.0   \n",
       "\n",
       "   MESSAGE COUNT  SPEED  \n",
       "0            7.0     18  \n",
       "1           11.0     23  \n",
       "2            0.0     -1  \n",
       "3            4.0     25  \n",
       "4            0.0     -1  "
      ]
     },
     "execution_count": 2,
     "metadata": {},
     "output_type": "execute_result"
    }
   ],
   "source": [
    "file = \"CSVs/Chicago_Traffic_Tracker_-_Historical_Congestion_Estimates_by_Segment_-_2011-2018.csv\"\n",
    "traffic_2017 = pd.read_csv(file)\n",
    "traffic_2017.head()"
   ]
  },
  {
   "cell_type": "code",
   "execution_count": 4,
   "metadata": {},
   "outputs": [
    {
     "data": {
      "text/plain": [
       "Index(['TIME', 'SEGMENTID', 'BUS COUNT                ', 'MESSAGE COUNT',\n",
       "       'SPEED'],\n",
       "      dtype='object')"
      ]
     },
     "execution_count": 4,
     "metadata": {},
     "output_type": "execute_result"
    }
   ],
   "source": [
    "traffic_2017.columns"
   ]
  },
  {
   "cell_type": "code",
   "execution_count": 5,
   "metadata": {},
   "outputs": [],
   "source": [
    "del traffic_2017[\"BUS COUNT                \"]\n",
    "del traffic_2017[\"SPEED\"]"
   ]
  },
  {
   "cell_type": "code",
   "execution_count": null,
   "metadata": {},
   "outputs": [],
   "source": [
    "traffic_2017[\"YEAR\"] = \"\"\n",
    "traffic_2017[\"YEAR\"] = pd.DatetimeIndex(traffic_2017[\"TIME\"]).year"
   ]
  },
  {
   "cell_type": "code",
   "execution_count": null,
   "metadata": {},
   "outputs": [],
   "source": [
    "traffic_2017.head()"
   ]
  },
  {
   "cell_type": "code",
   "execution_count": null,
   "metadata": {},
   "outputs": [],
   "source": [
    "traffic_2017= traffic_2017[traffic_2017[\"YEAR\"] == \"2017\"]"
   ]
  },
  {
   "cell_type": "code",
   "execution_count": null,
   "metadata": {},
   "outputs": [],
   "source": [
    "file2 = \"CSVs/Chicago_Traffic_Tracker_-_Congestion_Estimates_by_Segments.csv\"\n",
    "segments_df = pd.read_csv(file2)\n",
    "segments_df.head()"
   ]
  },
  {
   "cell_type": "code",
   "execution_count": null,
   "metadata": {},
   "outputs": [],
   "source": [
    "del segments_df[\"LAST_UPDATED\"]\n",
    "del segments_df[\"FROM_STREET\"]\n",
    "del segments_df[\"TO_STREET\"]\n",
    "del segments_df[\"LENGTH\"]\n",
    "del segments_df[\"STREET_HEADING\"]"
   ]
  },
  {
   "cell_type": "code",
   "execution_count": null,
   "metadata": {},
   "outputs": [],
   "source": [
    "file3 = \"CSVs/Chicago_Traffic_Tracker_-_Congestion_Estimates_by_Regions.csv\"\n",
    "regions_df = pd.read_csv(file3)"
   ]
  },
  {
   "cell_type": "code",
   "execution_count": null,
   "metadata": {},
   "outputs": [],
   "source": [
    "segments_df[\"REGION ID\"] = \"\"\n",
    "\n",
    "for index, row in segments_df.iterrows():\n",
    "    for index2, row2 in regions_df.iterrows():\n",
    "        if ((segments_df[\"START_LATITUDE\"][index] & segments_df[\"END_LATITUDE\"][index]) < regions_df[\" NORTH\"][index2]) & ((segments_df[\"START_LATITUDE\"][index] & segments_df[\"END_LATITUDE\"][index]) > regions_df[\" SOUTH\"][index2]) & ((segments_df[\"START_LONGITUDE\"][index] & segments_df[\"END_LONGITUDE\"][index]) > regions_df[\" WEST\"][index2]) & ((segments_df[\"START_LONGITUDE\"][index] & segments_df[\"END_LONGITUDE\"][index])< regions_df[\" EAST\"][index2]):\n",
    "            segments_df[\"REGION ID\"][index] = regions_df[\" REGION_ID\"][index2]\n",
    "            \n",
    "            \n",
    "            "
   ]
  },
  {
   "cell_type": "code",
   "execution_count": null,
   "metadata": {},
   "outputs": [],
   "source": [
    "segments_df.head()"
   ]
  },
  {
   "cell_type": "code",
   "execution_count": null,
   "metadata": {},
   "outputs": [],
   "source": [
    "segments_df.to_csv(\"CSVs/SegmentsWRegionID.csv\")"
   ]
  },
  {
   "cell_type": "code",
   "execution_count": null,
   "metadata": {},
   "outputs": [],
   "source": [
    "traffic_2017_merged = pd.merge(traffic_2017, segments_df, on = \"REGION ID\", how = \"inner\")\n",
    "traffic_2017_merged.head()"
   ]
  }
 ],
 "metadata": {
  "kernelspec": {
   "display_name": "Python 3",
   "language": "python",
   "name": "python3"
  },
  "language_info": {
   "codemirror_mode": {
    "name": "ipython",
    "version": 3
   },
   "file_extension": ".py",
   "mimetype": "text/x-python",
   "name": "python",
   "nbconvert_exporter": "python",
   "pygments_lexer": "ipython3",
   "version": "3.6.7"
  }
 },
 "nbformat": 4,
 "nbformat_minor": 2
}
